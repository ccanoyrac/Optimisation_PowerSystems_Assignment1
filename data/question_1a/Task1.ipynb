{
 "cells": [
  {
   "cell_type": "code",
   "execution_count": 69,
   "id": "4eea76e1",
   "metadata": {},
   "outputs": [],
   "source": [
    "import gurobipy as gp\n",
    "from gurobipy import GRB\n",
    "import json\n",
    "import pandas as pd\n",
    "import numpy as np"
   ]
  },
  {
   "cell_type": "code",
   "execution_count": 70,
   "id": "2ee220e3",
   "metadata": {},
   "outputs": [],
   "source": [
    "\"Loading the Solar Production Data\";\n",
    "with open(r\"C:\\Users\\Pulin\\Desktop\\Optimisation_PowerSystems_Assignment1\\data\\question_1a\\DER_production.json\", \"r\") as f:\n",
    "    data = json.load(f)\n",
    "\n",
    "df = pd.DataFrame(data)\n",
    "\n",
    "# Take the first row's hourly_profile_ratio list and make it a numpy array\n",
    "Solar_CF = np.array(df[\"hourly_profile_ratio\"][0])"
   ]
  },
  {
   "cell_type": "code",
   "execution_count": 71,
   "id": "6f4d15ea",
   "metadata": {},
   "outputs": [
    {
     "data": {
      "text/plain": [
       "array([0.  , 0.  , 0.  , 0.  , 0.  , 0.05, 0.14, 0.21, 0.15, 0.12, 0.21,\n",
       "       0.25, 0.85, 0.75, 0.55, 0.43, 0.23, 0.05, 0.25, 0.25, 0.  , 0.  ,\n",
       "       0.  , 0.  ])"
      ]
     },
     "execution_count": 71,
     "metadata": {},
     "output_type": "execute_result"
    }
   ],
   "source": [
    "Solar_CF"
   ]
  },
  {
   "cell_type": "code",
   "execution_count": 72,
   "id": "26477d4f",
   "metadata": {},
   "outputs": [],
   "source": [
    "\"Fullt Flexible Load (FFL) Data\";\n",
    "# Load JSON filen\n",
    "with open(r\"C:\\Users\\Pulin\\Desktop\\Optimisation_PowerSystems_Assignment1\\data\\question_1a\\usage_preference.json\", \"r\") as f:\n",
    "    data = json.load(f)\n",
    "\n",
    "    data\n"
   ]
  },
  {
   "cell_type": "code",
   "execution_count": 73,
   "id": "9a543a05",
   "metadata": {},
   "outputs": [
    {
     "data": {
      "text/plain": [
       "8"
      ]
     },
     "execution_count": 73,
     "metadata": {},
     "output_type": "execute_result"
    }
   ],
   "source": [
    "min_FFL = data[0][\"load_preferences\"][0][\"min_total_energy_per_day_hour_equivalent\"]\n",
    "min_FFL"
   ]
  },
  {
   "cell_type": "code",
   "execution_count": 74,
   "id": "370c981a",
   "metadata": {},
   "outputs": [],
   "source": [
    "\"Electrcity Markert Data\";\n",
    "with open(r\"C:\\Users\\Pulin\\Desktop\\Optimisation_PowerSystems_Assignment1\\data\\question_1a\\bus_params.json\", \"r\") as f:\n",
    "    data = json.load(f)\n",
    "\n",
    "electricty_price = data[0][\"energy_price_DKK_per_kWh\"]"
   ]
  },
  {
   "cell_type": "code",
   "execution_count": 75,
   "id": "0b28cfdf",
   "metadata": {},
   "outputs": [],
   "source": [
    "price_import = data[0][\"import_tariff_DKK/kWh\"]\n",
    "price_export = data[0][\"export_tariff_DKK/kWh\"]\n",
    "#------------------------------------------\n",
    "penalty_excess_import = data[0][\"penalty_excess_import_DKK/kWh\"]\n",
    "penalty_excess_export = data[0][\"penalty_excess_export_DKK/kWh\"]\n",
    "#-----------------------------------------------------\n",
    "max_import = data[0][\"max_import_kW\"]\n",
    "max_export = data[0][\"max_export_kW\"]"
   ]
  },
  {
   "cell_type": "code",
   "execution_count": 76,
   "id": "707535e9",
   "metadata": {},
   "outputs": [
    {
     "data": {
      "text/plain": [
       "500"
      ]
     },
     "execution_count": 76,
     "metadata": {},
     "output_type": "execute_result"
    }
   ],
   "source": [
    "max_export"
   ]
  },
  {
   "cell_type": "code",
   "execution_count": 77,
   "id": "0476c559",
   "metadata": {},
   "outputs": [],
   "source": [
    "\"Ramping Up for Solar and FFL\";\n",
    "with open(r\"C:\\Users\\Pulin\\Desktop\\Optimisation_PowerSystems_Assignment1\\data\\question_1a\\appliance_params.json\", \"r\") as f:\n",
    "    data = json.load(f)\n",
    "\n",
    "max_power_solar = data[\"DER\"][0][\"max_power_kW\"]\n",
    "#min_power = data[\"DER\"][0][\"min_power_ratio\"]\n",
    "max_ramp_up_rate_solar = data[\"DER\"][0][\"max_ramp_rate_up_ratio\"]\n",
    "max_ramp_down_rate_solar = data[\"DER\"][0][\"max_ramp_rate_down_ratio\"]"
   ]
  },
  {
   "cell_type": "code",
   "execution_count": 78,
   "id": "3b27a476",
   "metadata": {},
   "outputs": [],
   "source": [
    "max_load_FFL = data[\"load\"][0][\"max_load_kWh_per_hour\"]\n",
    "min_load_FFL = data[\"load\"][0][\"min_load_ratio\"]\n",
    "\n",
    "max_ramp_up_rate_FFL= data[\"load\"][0][\"max_ramp_rate_up_ratio\"]\n",
    "max_ramp_down_rate_FFL= data[\"load\"][0][\"max_ramp_rate_down_ratio\"]"
   ]
  },
  {
   "cell_type": "code",
   "execution_count": 85,
   "id": "ffcded6d",
   "metadata": {},
   "outputs": [
    {
     "data": {
      "text/plain": [
       "3.0"
      ]
     },
     "execution_count": 85,
     "metadata": {},
     "output_type": "execute_result"
    }
   ],
   "source": [
    "max_load_FFL"
   ]
  },
  {
   "cell_type": "markdown",
   "id": "8da2ed7a",
   "metadata": {},
   "source": [
    "- all units are in kW or KWh"
   ]
  },
  {
   "cell_type": "code",
   "execution_count": 83,
   "id": "4ed957e4",
   "metadata": {},
   "outputs": [],
   "source": [
    "t = range(len(Solar_CF))"
   ]
  },
  {
   "cell_type": "code",
   "execution_count": 108,
   "id": "ab0ce71c",
   "metadata": {},
   "outputs": [
    {
     "name": "stdout",
     "output_type": "stream",
     "text": [
      "Gurobi Optimizer version 12.0.1 build v12.0.1rc0 (win64 - Windows 11.0 (26100.2))\n",
      "\n",
      "CPU model: AMD Ryzen 7 8845HS w/ Radeon 780M Graphics, instruction set [SSE2|AVX|AVX2|AVX512]\n",
      "Thread count: 8 physical cores, 16 logical processors, using up to 16 threads\n",
      "\n",
      "Optimize a model with 166 rows, 168 columns and 308 nonzeros\n",
      "Model fingerprint: 0xb377fce5\n",
      "Model has 48 quadratic constraints\n",
      "Variable types: 120 continuous, 48 integer (48 binary)\n",
      "Coefficient statistics:\n",
      "  Matrix range     [1e+00, 3e+00]\n",
      "  QMatrix range    [1e+00, 1e+00]\n",
      "  QLMatrix range   [1e+00, 1e+00]\n",
      "  Objective range  [4e-01, 1e+01]\n",
      "  Bounds range     [1e+00, 1e+00]\n",
      "  RHS range        [2e-01, 1e+03]\n",
      "  QRHS range       [5e+02, 1e+03]\n",
      "Presolve removed 166 rows and 166 columns\n",
      "Presolve time: 0.04s\n",
      "Presolved: 3 rows, 5 columns, 7 nonzeros\n",
      "Presolved model has 2 SOS constraint(s)\n",
      "Variable types: 3 continuous, 2 integer (2 binary)\n",
      "\n",
      "Root relaxation: objective 1.409913e+05, 1 iterations, 0.00 seconds (0.00 work units)\n",
      "\n",
      "    Nodes    |    Current Node    |     Objective Bounds      |     Work\n",
      " Expl Unexpl |  Obj  Depth IntInf | Incumbent    BestBd   Gap | It/Node Time\n",
      "\n",
      "     0     0 140991.288    0    1          - 140991.288      -     -    0s\n",
      "H    0     0                    140991.28800 140991.288  0.00%     -    0s\n",
      "     0     0 140991.288    0    1 140991.288 140991.288  0.00%     -    0s\n",
      "\n",
      "Explored 1 nodes (1 simplex iterations) in 0.07 seconds (0.00 work units)\n",
      "Thread count was 16 (of 16 available processors)\n",
      "\n",
      "Solution count 1: 140991 \n",
      "\n",
      "Optimal solution found (tolerance 1.00e-04)\n",
      "Best objective 1.409912880000e+05, best bound 1.409912880000e+05, gap 0.0000%\n"
     ]
    }
   ],
   "source": [
    "# Create the model\n",
    "model = gp.Model(\"Prosumer_Optimization\")\n",
    "\n",
    "# Decision variables\n",
    "x_imports = model.addVars(t, name=\"imported_power_kW\", lb=0, ub=GRB.INFINITY)  # x_import[t]\n",
    "x_exports = model.addVars(t, name=\"exported_power_kW\", lb=0, ub=GRB.INFINITY) # x_exports[t]\n",
    "x_FFL = model.addVars(t, name=\"FFL_consumption_kW\", lb=0, ub=1)  # scaled 0-1 # x_FFL[t]\n",
    "\n",
    "z_import_excess = model.addVars(t, name=\"excess_import_kW\", lb=0, ub=GRB.INFINITY) # z_import_excess[t]\n",
    "z_export_excess = model.addVars(t, name=\"excess_export_kW\", lb=0, ub=GRB.INFINITY) # z_import_excess[t], z_export_excess[t]\n",
    "\n",
    "# Hourly binary variables\n",
    "y_import = model.addVars(t, vtype=GRB.BINARY, name=\"tariff_import_activation\") # y_import[t]\n",
    "y_export = model.addVars(t, vtype=GRB.BINARY, name=\"tariff_export_activation\") # y_export[t]\n",
    "\n",
    "# Constraints for each hour\n",
    "for i in t:\n",
    "    # FFL constraints\n",
    "    model.addConstr(x_FFL[i] * max_load_FFL >= min_load_FFL, name=f\"FFL_min_{i}\")\n",
    "    model.addConstr(x_FFL[i] * max_load_FFL <= max_load_FFL, name=f\"FFL_max_{i}\")\n",
    "\n",
    "    # Energy balance\n",
    "    model.addConstr(\n",
    "        x_imports[i] - x_exports[i] + Solar_CF[i] * max_power_solar - x_FFL[i] * max_load_FFL == 0,\n",
    "        name=f\"energy_balance_{i}\")\n",
    "\n",
    "\n",
    "    # Excess import/export constraints\n",
    "    model.addConstr(x_imports[i] - max_import == z_import_excess[i], name=f\"excess_import_{i}\") # Quantity of excess import\n",
    "    model.addConstr(x_exports[i] - max_export == z_export_excess[i], name=f\"excess_export_{i}\") # Quantity of excess export\n",
    "\n",
    "    # Tariff activation (big-M constraints)\n",
    "    model.addConstr( max_import >= x_imports[i] * (1 - y_import[i]), name=f\"import_limit_{i}\")\n",
    "    model.addConstr( max_export >= x_exports[i] * (1 - y_export[i]), name=f\"export_limit_{i}\")\n",
    "\n",
    "    # Ramp constraints for FFL only (solar is fixed)\n",
    "    if i > 0:\n",
    "        model.addConstr(\n",
    "            (x_FFL[i] * max_load_FFL) - (x_FFL[i-1] * max_load_FFL) <= max_ramp_up_rate_FFL * max_load_FFL,\n",
    "            name=f\"FFL_ramp_up_{i}\")\n",
    "        model.addConstr(\n",
    "            (x_FFL[i-1] * max_load_FFL) - (x_FFL[i] * max_load_FFL) <= max_ramp_down_rate_FFL * max_load_FFL,\n",
    "            name=f\"FFL_ramp_down_{i}\")\n",
    "\n",
    "\n",
    "# Objective: minimize import cost + excess import penalty\n",
    "model.setObjective(\n",
    "    gp.quicksum(penalty_excess_import*z_import_excess[i] + price_import*x_imports[i] +\n",
    "                 penalty_excess_export*z_export_excess[i] + price_export*x_exports[i] \n",
    "                for i in t), \n",
    "                sense=GRB.MINIMIZE)\n",
    "\n",
    "model.optimize()\n"
   ]
  },
  {
   "cell_type": "code",
   "execution_count": 109,
   "id": "8ea1358e",
   "metadata": {},
   "outputs": [
    {
     "name": "stdout",
     "output_type": "stream",
     "text": [
      "Optimal objective value: 140991.288\n",
      "Hour 0:\n",
      "  Imported power = 1000.00 kW\n",
      "  Exported power = 997.00 kW\n",
      "  FFL consumption = 3.00 kW\n",
      "  Excess import = 0.00 kW\n",
      "  Excess export = 497.00 kW\n",
      "  Import tariff active = 0.0\n",
      "  Export tariff active = 1.0\n",
      "Hour 1:\n",
      "  Imported power = 1000.00 kW\n",
      "  Exported power = 997.00 kW\n",
      "  FFL consumption = 3.00 kW\n",
      "  Excess import = 0.00 kW\n",
      "  Excess export = 497.00 kW\n",
      "  Import tariff active = 0.0\n",
      "  Export tariff active = 1.0\n",
      "Hour 2:\n",
      "  Imported power = 1000.00 kW\n",
      "  Exported power = 997.00 kW\n",
      "  FFL consumption = 3.00 kW\n",
      "  Excess import = 0.00 kW\n",
      "  Excess export = 497.00 kW\n",
      "  Import tariff active = 0.0\n",
      "  Export tariff active = 1.0\n",
      "Hour 3:\n",
      "  Imported power = 1000.00 kW\n",
      "  Exported power = 997.00 kW\n",
      "  FFL consumption = 3.00 kW\n",
      "  Excess import = 0.00 kW\n",
      "  Excess export = 497.00 kW\n",
      "  Import tariff active = 0.0\n",
      "  Export tariff active = 1.0\n",
      "Hour 4:\n",
      "  Imported power = 1000.00 kW\n",
      "  Exported power = 997.00 kW\n",
      "  FFL consumption = 3.00 kW\n",
      "  Excess import = 0.00 kW\n",
      "  Excess export = 497.00 kW\n",
      "  Import tariff active = 0.0\n",
      "  Export tariff active = 1.0\n",
      "Hour 5:\n",
      "  Imported power = 1000.00 kW\n",
      "  Exported power = 997.15 kW\n",
      "  FFL consumption = 3.00 kW\n",
      "  Excess import = 0.00 kW\n",
      "  Excess export = 497.15 kW\n",
      "  Import tariff active = 0.0\n",
      "  Export tariff active = 1.0\n",
      "Hour 6:\n",
      "  Imported power = 1000.00 kW\n",
      "  Exported power = 997.42 kW\n",
      "  FFL consumption = 3.00 kW\n",
      "  Excess import = 0.00 kW\n",
      "  Excess export = 497.42 kW\n",
      "  Import tariff active = 0.0\n",
      "  Export tariff active = 1.0\n",
      "Hour 7:\n",
      "  Imported power = 1000.00 kW\n",
      "  Exported power = 997.63 kW\n",
      "  FFL consumption = 3.00 kW\n",
      "  Excess import = 0.00 kW\n",
      "  Excess export = 497.63 kW\n",
      "  Import tariff active = 0.0\n",
      "  Export tariff active = 1.0\n",
      "Hour 8:\n",
      "  Imported power = 1000.00 kW\n",
      "  Exported power = 997.45 kW\n",
      "  FFL consumption = 3.00 kW\n",
      "  Excess import = 0.00 kW\n",
      "  Excess export = 497.45 kW\n",
      "  Import tariff active = 0.0\n",
      "  Export tariff active = 1.0\n",
      "Hour 9:\n",
      "  Imported power = 1000.00 kW\n",
      "  Exported power = 997.36 kW\n",
      "  FFL consumption = 3.00 kW\n",
      "  Excess import = 0.00 kW\n",
      "  Excess export = 497.36 kW\n",
      "  Import tariff active = 0.0\n",
      "  Export tariff active = 1.0\n",
      "Hour 10:\n",
      "  Imported power = 1000.00 kW\n",
      "  Exported power = 997.63 kW\n",
      "  FFL consumption = 3.00 kW\n",
      "  Excess import = 0.00 kW\n",
      "  Excess export = 497.63 kW\n",
      "  Import tariff active = 0.0\n",
      "  Export tariff active = 1.0\n",
      "Hour 11:\n",
      "  Imported power = 1000.00 kW\n",
      "  Exported power = 997.75 kW\n",
      "  FFL consumption = 3.00 kW\n",
      "  Excess import = 0.00 kW\n",
      "  Excess export = 497.75 kW\n",
      "  Import tariff active = 0.0\n",
      "  Export tariff active = 1.0\n",
      "Hour 12:\n",
      "  Imported power = 1000.00 kW\n",
      "  Exported power = 999.55 kW\n",
      "  FFL consumption = 3.00 kW\n",
      "  Excess import = 0.00 kW\n",
      "  Excess export = 499.55 kW\n",
      "  Import tariff active = 0.0\n",
      "  Export tariff active = 1.0\n",
      "Hour 13:\n",
      "  Imported power = 1000.00 kW\n",
      "  Exported power = 999.25 kW\n",
      "  FFL consumption = 3.00 kW\n",
      "  Excess import = 0.00 kW\n",
      "  Excess export = 499.25 kW\n",
      "  Import tariff active = 0.0\n",
      "  Export tariff active = 1.0\n",
      "Hour 14:\n",
      "  Imported power = 1000.00 kW\n",
      "  Exported power = 998.65 kW\n",
      "  FFL consumption = 3.00 kW\n",
      "  Excess import = 0.00 kW\n",
      "  Excess export = 498.65 kW\n",
      "  Import tariff active = 0.0\n",
      "  Export tariff active = 1.0\n",
      "Hour 15:\n",
      "  Imported power = 1000.00 kW\n",
      "  Exported power = 998.29 kW\n",
      "  FFL consumption = 3.00 kW\n",
      "  Excess import = 0.00 kW\n",
      "  Excess export = 498.29 kW\n",
      "  Import tariff active = 0.0\n",
      "  Export tariff active = 1.0\n",
      "Hour 16:\n",
      "  Imported power = 1000.00 kW\n",
      "  Exported power = 997.69 kW\n",
      "  FFL consumption = 3.00 kW\n",
      "  Excess import = 0.00 kW\n",
      "  Excess export = 497.69 kW\n",
      "  Import tariff active = 0.0\n",
      "  Export tariff active = 1.0\n",
      "Hour 17:\n",
      "  Imported power = 1000.00 kW\n",
      "  Exported power = 997.15 kW\n",
      "  FFL consumption = 3.00 kW\n",
      "  Excess import = 0.00 kW\n",
      "  Excess export = 497.15 kW\n",
      "  Import tariff active = 0.0\n",
      "  Export tariff active = 1.0\n",
      "Hour 18:\n",
      "  Imported power = 1000.00 kW\n",
      "  Exported power = 997.75 kW\n",
      "  FFL consumption = 3.00 kW\n",
      "  Excess import = 0.00 kW\n",
      "  Excess export = 497.75 kW\n",
      "  Import tariff active = 0.0\n",
      "  Export tariff active = 1.0\n",
      "Hour 19:\n",
      "  Imported power = 1000.00 kW\n",
      "  Exported power = 997.75 kW\n",
      "  FFL consumption = 3.00 kW\n",
      "  Excess import = 0.00 kW\n",
      "  Excess export = 497.75 kW\n",
      "  Import tariff active = 0.0\n",
      "  Export tariff active = 1.0\n",
      "Hour 20:\n",
      "  Imported power = 1000.00 kW\n",
      "  Exported power = 997.00 kW\n",
      "  FFL consumption = 3.00 kW\n",
      "  Excess import = 0.00 kW\n",
      "  Excess export = 497.00 kW\n",
      "  Import tariff active = 0.0\n",
      "  Export tariff active = 1.0\n",
      "Hour 21:\n",
      "  Imported power = 1000.00 kW\n",
      "  Exported power = 997.00 kW\n",
      "  FFL consumption = 3.00 kW\n",
      "  Excess import = 0.00 kW\n",
      "  Excess export = 497.00 kW\n",
      "  Import tariff active = 0.0\n",
      "  Export tariff active = 1.0\n",
      "Hour 22:\n",
      "  Imported power = 1000.00 kW\n",
      "  Exported power = 997.00 kW\n",
      "  FFL consumption = 3.00 kW\n",
      "  Excess import = 0.00 kW\n",
      "  Excess export = 497.00 kW\n",
      "  Import tariff active = 0.0\n",
      "  Export tariff active = 1.0\n",
      "Hour 23:\n",
      "  Imported power = 1000.00 kW\n",
      "  Exported power = 997.00 kW\n",
      "  FFL consumption = 3.00 kW\n",
      "  Excess import = 0.00 kW\n",
      "  Excess export = 497.00 kW\n",
      "  Import tariff active = 1.0\n",
      "  Export tariff active = 1.0\n"
     ]
    }
   ],
   "source": [
    "# Print objective value\n",
    "print(\"Optimal objective value:\", model.ObjVal)\n",
    "\n",
    "# Print hourly results\n",
    "for i in t:\n",
    "    print(f\"Hour {i}:\")\n",
    "    print(f\"  Imported power = {x_imports[i].X:.2f} kW\")\n",
    "    print(f\"  Exported power = {x_exports[i].X:.2f} kW\")\n",
    "    print(f\"  FFL consumption = {x_FFL[i].X*max_load_FFL:.2f} kW\")\n",
    "    print(f\"  Excess import = {z_import_excess[i].X:.2f} kW\")\n",
    "    print(f\"  Excess export = {z_export_excess[i].X:.2f} kW\")\n",
    "    print(f\"  Import tariff active = {y_import[i].X}\")\n",
    "    print(f\"  Export tariff active = {y_export[i].X}\")\n"
   ]
  }
 ],
 "metadata": {
  "kernelspec": {
   "display_name": "integrated-energy-grids",
   "language": "python",
   "name": "python3"
  },
  "language_info": {
   "codemirror_mode": {
    "name": "ipython",
    "version": 3
   },
   "file_extension": ".py",
   "mimetype": "text/x-python",
   "name": "python",
   "nbconvert_exporter": "python",
   "pygments_lexer": "ipython3",
   "version": "3.11.12"
  }
 },
 "nbformat": 4,
 "nbformat_minor": 5
}
